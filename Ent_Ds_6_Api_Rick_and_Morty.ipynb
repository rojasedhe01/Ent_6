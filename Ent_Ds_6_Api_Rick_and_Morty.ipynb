{
 "cells": [
  {
   "cell_type": "code",
   "execution_count": 5,
   "metadata": {},
   "outputs": [],
   "source": [
    "url = 'https://rickandmortyapi.com/api'\n",
    "headers = {\"Accept-Encoding\": \"gzip, deflate\"}\n",
    "\n",
    "response = requests.get(url, headers=headers)\n",
    "data = response.json()"
   ]
  },
  {
   "cell_type": "code",
   "execution_count": 7,
   "metadata": {},
   "outputs": [
    {
     "data": {
      "text/plain": [
       "{'characters': 'https://rickandmortyapi.com/api/character',\n",
       " 'locations': 'https://rickandmortyapi.com/api/location',\n",
       " 'episodes': 'https://rickandmortyapi.com/api/episode'}"
      ]
     },
     "execution_count": 7,
     "metadata": {},
     "output_type": "execute_result"
    }
   ],
   "source": [
    "data"
   ]
  },
  {
   "cell_type": "code",
   "execution_count": 95,
   "metadata": {},
   "outputs": [],
   "source": [
    "url = 'https://rickandmortyapi.com/api/episode'\n",
    "headers = {\"Accept-Encoding\": \"gzip, deflate\"}\n",
    "\n",
    "response = requests.get(url, headers=headers)\n",
    "data = response.json()"
   ]
  },
  {
   "cell_type": "code",
   "execution_count": 96,
   "metadata": {},
   "outputs": [
    {
     "data": {
      "text/plain": [
       "dict_keys(['info', 'results'])"
      ]
     },
     "execution_count": 96,
     "metadata": {},
     "output_type": "execute_result"
    }
   ],
   "source": [
    "data.keys()"
   ]
  },
  {
   "cell_type": "code",
   "execution_count": 97,
   "metadata": {},
   "outputs": [
    {
     "data": {
      "text/plain": [
       "[{'id': 1,\n",
       "  'name': 'Pilot',\n",
       "  'air_date': 'December 2, 2013',\n",
       "  'episode': 'S01E01',\n",
       "  'characters': ['https://rickandmortyapi.com/api/character/1',\n",
       "   'https://rickandmortyapi.com/api/character/2',\n",
       "   'https://rickandmortyapi.com/api/character/35',\n",
       "   'https://rickandmortyapi.com/api/character/38',\n",
       "   'https://rickandmortyapi.com/api/character/62',\n",
       "   'https://rickandmortyapi.com/api/character/92',\n",
       "   'https://rickandmortyapi.com/api/character/127',\n",
       "   'https://rickandmortyapi.com/api/character/144',\n",
       "   'https://rickandmortyapi.com/api/character/158',\n",
       "   'https://rickandmortyapi.com/api/character/175',\n",
       "   'https://rickandmortyapi.com/api/character/179',\n",
       "   'https://rickandmortyapi.com/api/character/181',\n",
       "   'https://rickandmortyapi.com/api/character/239',\n",
       "   'https://rickandmortyapi.com/api/character/249',\n",
       "   'https://rickandmortyapi.com/api/character/271',\n",
       "   'https://rickandmortyapi.com/api/character/338',\n",
       "   'https://rickandmortyapi.com/api/character/394',\n",
       "   'https://rickandmortyapi.com/api/character/395',\n",
       "   'https://rickandmortyapi.com/api/character/435'],\n",
       "  'url': 'https://rickandmortyapi.com/api/episode/1',\n",
       "  'created': '2017-11-10T12:56:33.798Z'},\n",
       " {'id': 2,\n",
       "  'name': 'Lawnmower Dog',\n",
       "  'air_date': 'December 9, 2013',\n",
       "  'episode': 'S01E02',\n",
       "  'characters': ['https://rickandmortyapi.com/api/character/1',\n",
       "   'https://rickandmortyapi.com/api/character/2',\n",
       "   'https://rickandmortyapi.com/api/character/38',\n",
       "   'https://rickandmortyapi.com/api/character/46',\n",
       "   'https://rickandmortyapi.com/api/character/63',\n",
       "   'https://rickandmortyapi.com/api/character/80',\n",
       "   'https://rickandmortyapi.com/api/character/175',\n",
       "   'https://rickandmortyapi.com/api/character/221',\n",
       "   'https://rickandmortyapi.com/api/character/239',\n",
       "   'https://rickandmortyapi.com/api/character/246',\n",
       "   'https://rickandmortyapi.com/api/character/304',\n",
       "   'https://rickandmortyapi.com/api/character/305',\n",
       "   'https://rickandmortyapi.com/api/character/306',\n",
       "   'https://rickandmortyapi.com/api/character/329',\n",
       "   'https://rickandmortyapi.com/api/character/338',\n",
       "   'https://rickandmortyapi.com/api/character/396',\n",
       "   'https://rickandmortyapi.com/api/character/397',\n",
       "   'https://rickandmortyapi.com/api/character/398',\n",
       "   'https://rickandmortyapi.com/api/character/405'],\n",
       "  'url': 'https://rickandmortyapi.com/api/episode/2',\n",
       "  'created': '2017-11-10T12:56:33.916Z'}]"
      ]
     },
     "execution_count": 97,
     "metadata": {},
     "output_type": "execute_result"
    }
   ],
   "source": [
    "data['results'][0:2]"
   ]
  },
  {
   "cell_type": "code",
   "execution_count": 104,
   "metadata": {},
   "outputs": [
    {
     "data": {
      "text/plain": [
       "{'id': 1,\n",
       " 'name': 'Pilot',\n",
       " 'air_date': 'December 2, 2013',\n",
       " 'episode': 'S01E01',\n",
       " 'characters': ['https://rickandmortyapi.com/api/character/1',\n",
       "  'https://rickandmortyapi.com/api/character/2',\n",
       "  'https://rickandmortyapi.com/api/character/35',\n",
       "  'https://rickandmortyapi.com/api/character/38',\n",
       "  'https://rickandmortyapi.com/api/character/62',\n",
       "  'https://rickandmortyapi.com/api/character/92',\n",
       "  'https://rickandmortyapi.com/api/character/127',\n",
       "  'https://rickandmortyapi.com/api/character/144',\n",
       "  'https://rickandmortyapi.com/api/character/158',\n",
       "  'https://rickandmortyapi.com/api/character/175',\n",
       "  'https://rickandmortyapi.com/api/character/179',\n",
       "  'https://rickandmortyapi.com/api/character/181',\n",
       "  'https://rickandmortyapi.com/api/character/239',\n",
       "  'https://rickandmortyapi.com/api/character/249',\n",
       "  'https://rickandmortyapi.com/api/character/271',\n",
       "  'https://rickandmortyapi.com/api/character/338',\n",
       "  'https://rickandmortyapi.com/api/character/394',\n",
       "  'https://rickandmortyapi.com/api/character/395',\n",
       "  'https://rickandmortyapi.com/api/character/435'],\n",
       " 'url': 'https://rickandmortyapi.com/api/episode/1',\n",
       " 'created': '2017-11-10T12:56:33.798Z'}"
      ]
     },
     "execution_count": 104,
     "metadata": {},
     "output_type": "execute_result"
    }
   ],
   "source": [
    "import requests\n",
    "\n",
    "# Define the URL\n",
    "url = \"https://rickandmortyapi.com/api/episode/1\"\n",
    "\n",
    "# Define headers\n",
    "headers = {\n",
    "    \"Accept-Version\": \"3\"\n",
    "}\n",
    "\n",
    "# Send GET request\n",
    "response = requests.get(url, headers=headers)\n",
    "\n",
    "# Print response content\n",
    "response.json()"
   ]
  },
  {
   "cell_type": "code",
   "execution_count": 105,
   "metadata": {},
   "outputs": [
    {
     "data": {
      "text/plain": [
       "<function requests.api.get(url, params=None, **kwargs)>"
      ]
     },
     "execution_count": 105,
     "metadata": {},
     "output_type": "execute_result"
    }
   ],
   "source": [
    "import requests\n",
    "requests.get"
   ]
  },
  {
   "cell_type": "code",
   "execution_count": 110,
   "metadata": {},
   "outputs": [
    {
     "name": "stdout",
     "output_type": "stream",
     "text": [
      "<Response [200]>\n"
     ]
    }
   ],
   "source": [
    "import requests\n",
    "import pandas as pd\n",
    "\n",
    "url = \"https://rickandmortyapi.com/api/character/1\"\n",
    "headers = {\"Accept-Encoding\": \"gzip, deflate\"}\n",
    "\n",
    "response = requests.get(url, headers=headers)\n",
    "print(response)\n",
    "data = response.json()\n",
    "\n",
    "#df = pd.DataFrame.from_dict(data['data']['market_data'], orient='index')\n",
    "#print(df)"
   ]
  },
  {
   "cell_type": "code",
   "execution_count": 111,
   "metadata": {},
   "outputs": [
    {
     "data": {
      "text/plain": [
       "dict_keys(['id', 'name', 'status', 'species', 'type', 'gender', 'origin', 'location', 'image', 'episode', 'url', 'created'])"
      ]
     },
     "execution_count": 111,
     "metadata": {},
     "output_type": "execute_result"
    }
   ],
   "source": [
    "data.keys()"
   ]
  },
  {
   "cell_type": "code",
   "execution_count": 125,
   "metadata": {},
   "outputs": [
    {
     "data": {
      "text/plain": [
       "{'name': 'Earth (C-137)', 'url': 'https://rickandmortyapi.com/api/location/1'}"
      ]
     },
     "execution_count": 125,
     "metadata": {},
     "output_type": "execute_result"
    }
   ],
   "source": [
    "data['origin']"
   ]
  },
  {
   "cell_type": "code",
   "execution_count": 126,
   "metadata": {},
   "outputs": [],
   "source": [
    "#datax = data"
   ]
  },
  {
   "cell_type": "code",
   "execution_count": 127,
   "metadata": {},
   "outputs": [
    {
     "data": {
      "text/html": [
       "<div>\n",
       "<style scoped>\n",
       "    .dataframe tbody tr th:only-of-type {\n",
       "        vertical-align: middle;\n",
       "    }\n",
       "\n",
       "    .dataframe tbody tr th {\n",
       "        vertical-align: top;\n",
       "    }\n",
       "\n",
       "    .dataframe thead th {\n",
       "        text-align: right;\n",
       "    }\n",
       "</style>\n",
       "<table border=\"1\" class=\"dataframe\">\n",
       "  <thead>\n",
       "    <tr style=\"text-align: right;\">\n",
       "      <th></th>\n",
       "      <th>0</th>\n",
       "    </tr>\n",
       "  </thead>\n",
       "  <tbody>\n",
       "    <tr>\n",
       "      <th>id</th>\n",
       "      <td>1</td>\n",
       "    </tr>\n",
       "    <tr>\n",
       "      <th>name</th>\n",
       "      <td>Rick Sanchez</td>\n",
       "    </tr>\n",
       "    <tr>\n",
       "      <th>status</th>\n",
       "      <td>Alive</td>\n",
       "    </tr>\n",
       "    <tr>\n",
       "      <th>species</th>\n",
       "      <td>Human</td>\n",
       "    </tr>\n",
       "    <tr>\n",
       "      <th>type</th>\n",
       "      <td></td>\n",
       "    </tr>\n",
       "    <tr>\n",
       "      <th>gender</th>\n",
       "      <td>Male</td>\n",
       "    </tr>\n",
       "    <tr>\n",
       "      <th>origin</th>\n",
       "      <td>{'name': 'Earth (C-137)', 'url': 'https://rick...</td>\n",
       "    </tr>\n",
       "    <tr>\n",
       "      <th>location</th>\n",
       "      <td>{'name': 'Citadel of Ricks', 'url': 'https://r...</td>\n",
       "    </tr>\n",
       "    <tr>\n",
       "      <th>image</th>\n",
       "      <td>https://rickandmortyapi.com/api/character/avat...</td>\n",
       "    </tr>\n",
       "    <tr>\n",
       "      <th>episode</th>\n",
       "      <td>[https://rickandmortyapi.com/api/episode/1, ht...</td>\n",
       "    </tr>\n",
       "    <tr>\n",
       "      <th>url</th>\n",
       "      <td>https://rickandmortyapi.com/api/character/1</td>\n",
       "    </tr>\n",
       "    <tr>\n",
       "      <th>created</th>\n",
       "      <td>2017-11-04T18:48:46.250Z</td>\n",
       "    </tr>\n",
       "  </tbody>\n",
       "</table>\n",
       "</div>"
      ],
      "text/plain": [
       "                                                          0\n",
       "id                                                        1\n",
       "name                                           Rick Sanchez\n",
       "status                                                Alive\n",
       "species                                               Human\n",
       "type                                                       \n",
       "gender                                                 Male\n",
       "origin    {'name': 'Earth (C-137)', 'url': 'https://rick...\n",
       "location  {'name': 'Citadel of Ricks', 'url': 'https://r...\n",
       "image     https://rickandmortyapi.com/api/character/avat...\n",
       "episode   [https://rickandmortyapi.com/api/episode/1, ht...\n",
       "url             https://rickandmortyapi.com/api/character/1\n",
       "created                            2017-11-04T18:48:46.250Z"
      ]
     },
     "execution_count": 127,
     "metadata": {},
     "output_type": "execute_result"
    }
   ],
   "source": [
    "datax = data\n",
    "dt = pd.DataFrame.from_dict(datax, orient='index')\n",
    "dt"
   ]
  }
 ],
 "metadata": {
  "kernelspec": {
   "display_name": "Python 3",
   "language": "python",
   "name": "python3"
  },
  "language_info": {
   "codemirror_mode": {
    "name": "ipython",
    "version": 3
   },
   "file_extension": ".py",
   "mimetype": "text/x-python",
   "name": "python",
   "nbconvert_exporter": "python",
   "pygments_lexer": "ipython3",
   "version": "3.12.2"
  }
 },
 "nbformat": 4,
 "nbformat_minor": 2
}
